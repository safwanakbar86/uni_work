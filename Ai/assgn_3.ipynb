{
 "cells": [
  {
   "cell_type": "code",
   "execution_count": null,
   "metadata": {},
   "outputs": [],
   "source": [
    "class MLP:\n",
    "    def __init__(self):\n",
    "        pass\n",
    "    \n",
    "    def forward_prop(self):\n",
    "        pass\n",
    "\n",
    "    def backward_prop(self):\n",
    "        pass\n",
    "\n",
    "    def sigmoid(self):\n",
    "        pass\n",
    "\n",
    "    def func_prime(self, x):\n",
    "        return x * (1 - x)"
   ]
  },
  {
   "cell_type": "code",
   "execution_count": null,
   "metadata": {},
   "outputs": [],
   "source": []
  }
 ],
 "metadata": {
  "language_info": {
   "name": "python"
  }
 },
 "nbformat": 4,
 "nbformat_minor": 2
}
