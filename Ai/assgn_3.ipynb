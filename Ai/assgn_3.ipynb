{
 "cells": [
  {
   "cell_type": "code",
   "execution_count": 4,
   "metadata": {},
   "outputs": [],
   "source": [
    "import math\n",
    "import random"
   ]
  },
  {
   "cell_type": "code",
   "execution_count": 3,
   "metadata": {},
   "outputs": [],
   "source": [
    "class MLP:\n",
    "    def __init__(self, input_neurons, hidden_neurons, output_neurons):\n",
    "        self.input_neurons = input_neurons\n",
    "        self.hidden_neurons = hidden_neurons\n",
    "        self.output_neurons = output_neurons\n",
    "\n",
    "        self.input_values = []\n",
    "        self.hidden_values = []\n",
    "        self.target_values = []\n",
    "        self.output_values = []\n",
    "\n",
    "        for _ in range(self.input_neurons):\n",
    "            self.input_values.append(random.randint(1, 5))\n",
    "        \n",
    "        for _ in range(self.target_values):\n",
    "            self.target_values.append(random.random())\n",
    "\n",
    "        self.input_hidden_weights = []\n",
    "        self.hidden_output_weights = []\n",
    "\n",
    "    def forward_prop(self):\n",
    "        pass\n",
    "\n",
    "    def backward_prop(self):\n",
    "        pass\n",
    "\n",
    "    def sigmoid_func(self, x):\n",
    "        return 1 / (1 + pow(math.e, -x))\n",
    "\n",
    "    def prime_func(self, x):\n",
    "        return x * (1 - x)\n",
    "    \n",
    "    def error_calc(self):\n",
    "        self.error_values = []\n",
    "        for e in range(len(self.output_values)):\n",
    "            self.error_values.append(abs(self.output_values[e] - self.target_values[e]))"
   ]
  },
  {
   "cell_type": "code",
   "execution_count": null,
   "metadata": {},
   "outputs": [],
   "source": []
  }
 ],
 "metadata": {
  "kernelspec": {
   "display_name": "Python 3",
   "language": "python",
   "name": "python3"
  },
  "language_info": {
   "codemirror_mode": {
    "name": "ipython",
    "version": 3
   },
   "file_extension": ".py",
   "mimetype": "text/x-python",
   "name": "python",
   "nbconvert_exporter": "python",
   "pygments_lexer": "ipython3",
   "version": "3.12.2"
  }
 },
 "nbformat": 4,
 "nbformat_minor": 2
}
