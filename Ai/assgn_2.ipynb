{
 "cells": [
  {
   "cell_type": "code",
   "execution_count": null,
   "metadata": {},
   "outputs": [],
   "source": [
    "import time"
   ]
  },
  {
   "cell_type": "code",
   "execution_count": 1,
   "metadata": {},
   "outputs": [],
   "source": [
    "def grid(rows, cols):\n",
    "    return [['P' if (c == 0) and (r == rows - 1) else 'C' for c in range(cols)] for r in range(rows)]\n",
    "\n",
    "def display(grid, rows, cols):\n",
    "    for r in range(rows):\n",
    "        for c in range(cols):\n",
    "            print(grid[r][c] + \"  \", end=\"\")\n",
    "        print(\"\")"
   ]
  },
  {
   "cell_type": "code",
   "execution_count": null,
   "metadata": {},
   "outputs": [],
   "source": [
    "rows = int(input(\"Grid rows: \"))\n",
    "cols = int(input(\"Grid columns: \"))\n",
    "initial_state = grid(rows, cols)\n",
    "display(initial_state, rows, cols)"
   ]
  },
  {
   "cell_type": "code",
   "execution_count": null,
   "metadata": {},
   "outputs": [],
   "source": [
    "select_row = int(input(\"Select chocolate row: \"))\n",
    "select_col = int(input(\"Select chocolate column: \"))\n",
    "\n",
    "while select_row >= rows:\n",
    "    select_row = int(input(\"Select chocolate row: \"))\n",
    "while select_col >= cols:\n",
    "    select_col = int(input(\"Select chocolate column: \"))\n",
    "\n"
   ]
  }
 ],
 "metadata": {
  "kernelspec": {
   "display_name": "Python 3",
   "language": "python",
   "name": "python3"
  },
  "language_info": {
   "codemirror_mode": {
    "name": "ipython",
    "version": 3
   },
   "file_extension": ".py",
   "mimetype": "text/x-python",
   "name": "python",
   "nbconvert_exporter": "python",
   "pygments_lexer": "ipython3",
   "version": "3.12.2"
  }
 },
 "nbformat": 4,
 "nbformat_minor": 2
}
